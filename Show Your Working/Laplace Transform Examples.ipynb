{
 "cells": [
  {
   "cell_type": "markdown",
   "metadata": {},
   "source": [
    "# Laplace Transforms"
   ]
  },
  {
   "cell_type": "markdown",
   "metadata": {},
   "source": [
    "Notes\n",
    "\n",
    "$$ \\mathcal{L}(e^{at}) = \\frac{1}{s-a} $$\n",
    "\n",
    "$$ \\mathcal{L}(t^n) = \\frac{n!}{s^{n+1}} $$ \n"
   ]
  },
  {
   "cell_type": "markdown",
   "metadata": {},
   "source": [
    "### 1. Find the Laplace transforms of the following functions\n",
    "\n",
    "a) $ t^3e^{-3t} $\n",
    "\n",
    "b) $ e^{-t}\\cos(2t) $\n",
    "\n",
    "c) $ t\\sin(5t) $\n",
    "\n",
    "<hr>\n",
    "\n",
    "_Answer_\n",
    "\n",
    "a) $ t^3e^{-3t} $\n",
    "\n",
    "$$ F(s) = \\int^\\infty_0 t^3e^{-(s+3)t}dt $$\n",
    "\n",
    "$$ = \\mathcal{L}(t^3)\\mathcal{L}(e^{-3t}) $$\n",
    "\n",
    "$$ = \\frac{6}{(s+3)^4} $$\n",
    "\n"
   ]
  },
  {
   "cell_type": "markdown",
   "metadata": {},
   "source": [
    "\n",
    "$$ \\int^b_a u(t)v'(t)dt = \n",
    "\\left.u(t)v(t)\\right|_a^b - \\int^b_a{v(t)u'(t)dt} $$"
   ]
  }
 ],
 "metadata": {
  "kernelspec": {
   "display_name": "Python 3",
   "language": "python",
   "name": "python3"
  },
  "language_info": {
   "codemirror_mode": {
    "name": "ipython",
    "version": 3
   },
   "file_extension": ".py",
   "mimetype": "text/x-python",
   "name": "python",
   "nbconvert_exporter": "python",
   "pygments_lexer": "ipython3",
   "version": "3.5.1"
  }
 },
 "nbformat": 4,
 "nbformat_minor": 0
}
