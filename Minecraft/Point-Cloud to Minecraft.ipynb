{
 "cells": [
  {
   "cell_type": "markdown",
   "metadata": {},
   "source": [
    "# Point-Cloud to Minecraft\n",
    "\n",
    "by James Gopsill"
   ]
  },
  {
   "cell_type": "code",
   "execution_count": 1,
   "metadata": {},
   "outputs": [
    {
     "data": {
      "image/jpeg": "[encoded data removed]",
      "text/html": [
       "\n",
       "        <iframe\n",
       "            width=\"400\"\n",
       "            height=\"300\"\n",
       "            src=\"https://www.youtube.com/embed/fS8cVxznAEo\"\n",
       "            frameborder=\"0\"\n",
       "            allowfullscreen\n",
       "        ></iframe>\n",
       "        "
      ],
      "text/plain": [
       "<IPython.lib.display.YouTubeVideo at 0x1065d6320>"
      ]
     },
     "execution_count": 1,
     "metadata": {},
     "output_type": "execute_result"
    }
   ],
   "source": [
    "from IPython.display import YouTubeVideo\n",
    "YouTubeVideo(\"fS8cVxznAEo\")"
   ]
  },
  {
   "cell_type": "markdown",
   "metadata": {},
   "source": [
    "<hr>\n",
    "\n",
    "This notebook provides a brief example of how to discretise a PLY point-cloud data into blocks that can be represented in minecraft. The point-cloud data has been generated by a Googles Project Tango device. The work is part of the [PhysiCAD](http://physicad.com/) research project looking at tangible interfaces for designing new products."
   ]
  },
  {
   "cell_type": "markdown",
   "metadata": {},
   "source": [
    "## Step 1: Discretising PlyData\n",
    "\n",
    "The first step involves discretising the 3D space into bins that will form the blocks in minecraft. To do this, we need to have the plyfile and numpy packages installed.\n",
    "\n",
    "[1]: [http://physicad.com/]"
   ]
  },
  {
   "cell_type": "code",
   "execution_count": 2,
   "metadata": {},
   "outputs": [],
   "source": [
    "from plyfile import PlyData, PlyElement\n",
    "import numpy as np"
   ]
  },
  {
   "cell_type": "markdown",
   "metadata": {},
   "source": [
    "Once we have imported these packages, we can load the data from the PLY file that has been generated from the Project Tango device. We then extract all the vertices from the imported data and take the x, y and z co-ordinates."
   ]
  },
  {
   "cell_type": "code",
   "execution_count": null,
   "metadata": {},
   "outputs": [],
   "source": [
    "# Read in the ply data (be aware, this my take some time to load up)\n",
    "plydata = PlyData.read('room.ply')\n",
    "\n",
    "vertices = []\n",
    "\n",
    "for vertex in plydata['vertex']:\n",
    "    vertices.append([vertex[0], vertex[1], vertex[2]])\n",
    "\n",
    "# Transform list into a numpy array\n",
    "vertices = np.asarray(vertices)\n",
    "\n",
    "print('Number of rows & cols:', vertices.shape)\n",
    "print('Point-Cloud Summary')\n",
    "print('X Min:', np.min(vertices[:,0]), 'X Max:', np.max(vertices[:,0]))\n",
    "print('Y Min:', np.min(vertices[:,1]), 'Y Max:', np.max(vertices[:,1]))\n",
    "print('Z Min:', np.min(vertices[:,2]), 'Z Max:', np.max(vertices[:,2]))"
   ]
  },
  {
   "cell_type": "markdown",
   "metadata": {},
   "source": [
    "Now we have all the points within a numpy array, we set-up the discretised 3-dimensional space. To do this, we set a width that each box will be and in this case, the width will be the same for all axes. Using this width, we can create a range of values that represent the start and end boundaries for each box in the 3-axes (i.e. 0, 0.3, 0.6, 0.8...). We make the range so that it covers the entire point-cloud space."
   ]
  },
  {
   "cell_type": "code",
   "execution_count": null,
   "metadata": {},
   "outputs": [],
   "source": [
    "# Set the width of the boxes in the 3D space\n",
    "box_width = 0.03\n",
    "\n",
    "# The box increments in the x direction\n",
    "x_range = np.arange(np.min(vertices[:,0]) - box_width, np.max(vertices[:,0]) + box_width, box_width)\n",
    "# The box increments in the y direction\n",
    "y_range = np.arange(np.min(vertices[:,1]) - box_width, np.max(vertices[:,1]) + box_width, box_width)\n",
    "# The box increments in the z direction\n",
    "z_range = np.arange(np.min(vertices[:,2]) - box_width, np.max(vertices[:,2]) + box_width, box_width)"
   ]
  },
  {
   "cell_type": "markdown",
   "metadata": {},
   "source": [
    "Using this discretised space, we can generate a 3-dimesional histogram where the number of points within each box are counted. Luckily, numpy has a function that can do this for us."
   ]
  },
  {
   "cell_type": "code",
   "execution_count": null,
   "metadata": {},
   "outputs": [],
   "source": [
    "# Calculating 3d histogram\n",
    "H, edges = np.histogramdd(vertices, bins=[x_range, y_range, z_range])\n",
    "\n",
    "print('Bin Shape:', H.shape)\n",
    "print('Number of Points in the Bins:', np.sum(H))"
   ]
  },
  {
   "cell_type": "markdown",
   "metadata": {},
   "source": [
    "From this, we have a set of bin co-orindates and the respective number of points within that bin. To reduce the size of the file we will store, all we need to include are the bins that have points within them. Therefore, this next part iterates through all the bins from the histogram and if the bin contains a point, the location and number of points are appended to a list.\n",
    "\n",
    "The resulting list is then converted into an array of integers that are then saved to a csv file. This will be the file that we will use to decide where the blocks will be placed in Minecraft."
   ]
  },
  {
   "cell_type": "code",
   "execution_count": null,
   "metadata": {},
   "outputs": [],
   "source": [
    "# Get the bins with values and save them as a csv for minecraft to build from\n",
    "minecraft_boxes = []\n",
    "# get the lengths of the 3-dimensions of H\n",
    "x_bins, y_bins, z_bins = H.shape\n",
    "# Loop through all the bins\n",
    "for i in range(0, x_bins):\n",
    "    for j in range(0, y_bins):\n",
    "        for k in range(0, z_bins):\n",
    "            # If the bin contains a point from the point-cloud add it as a possible minecraft block\n",
    "            if (H[i,j,k] > 0):\n",
    "                # in minecraft, we will use indices to declare the positions of the blocks\n",
    "                minecraft_boxes.append([ i, j, k, H[i,j,k] ])\n",
    "\n",
    "# turn list into a numpy array\n",
    "minecraft_boxes = np.asarray(minecraft_boxes)\n",
    "print(minecraft_boxes.shape)\n",
    "# save array as integers in comma separated variable format\n",
    "np.savetxt('room-blocks.csv', minecraft_boxes.astype(int), delimiter=',', fmt='%i')"
   ]
  },
  {
   "cell_type": "markdown",
   "metadata": {},
   "source": [
    "## Step 2: Load into Minecraft Pi\n",
    "\n",
    "Step 2 takes the block data we have generated from Step 1 and creates a world in minecraft. For this code to work, it must be running on a Raspberry Pi as the pi contains a python package that can interface with Minecraft Pi."
   ]
  },
  {
   "cell_type": "code",
   "execution_count": null,
   "metadata": {},
   "outputs": [],
   "source": [
    "from mcpi.minecraft import Minecraft\n",
    "import mcpi.block as block_types\n",
    "import numpy as np"
   ]
  },
  {
   "cell_type": "markdown",
   "metadata": {},
   "source": [
    "Once we have imported the necessary packages, we need to load minecraft up and start/load a world. When this has loaded up, you can tab out and go back and run your python code. Any manipulations to the world will be performed to the currently loaded one.\n",
    "\n",
    "For our case, we first create hook to our Minecraft world and post 'Hello World' to chat. You should see this appear on you Minecraft screen. We then take the centre of the world and create a solid stone floor of 200 x 200 and remove any blocks that may be above it."
   ]
  },
  {
   "cell_type": "code",
   "execution_count": null,
   "metadata": {},
   "outputs": [],
   "source": [
    "# Create hook into minecraft\n",
    "mc = Minecraft.create()\n",
    "# Post to chat to check\n",
    "mc.postToChat('Hello World')\n",
    "\n",
    "# Using the center of the world as our anchor for the room\n",
    "x = 0\n",
    "y = 0\n",
    "z = 0\n",
    "\n",
    "# Creating the flat plate (centred around x, y, z)\n",
    "print(\"Creating the floor\")\n",
    "mc.setBlocks(x-100, y-1, z-100, x+100, y-1, z+100,  block_types.STONE)\n",
    "\n",
    "# Remove all blocks above the floor\n",
    "mc.setBlocks(x-100, y, z-100, x+100, y+100, z+100,  block_types.AIR)"
   ]
  },
  {
   "cell_type": "markdown",
   "metadata": {},
   "source": [
    "No we load up our blocks that we have stored as a csv and iterate through each one. In this case, if the number of points exceeds 5, we place the block into the Minecraft world. We initially set all the blocks to stone and found it very difficult to identify objects within the world. To combat this, we set different block types for blocks at certain heights within the space. For example, we set anything above 30 as glass to represent the ceiling and using glass also allows the lighting from the world to enter the room."
   ]
  },
  {
   "cell_type": "code",
   "execution_count": null,
   "metadata": {},
   "outputs": [],
   "source": [
    "# Build Structure\n",
    "# load the boxes from csv\n",
    "boxes = np.genfromtxt('room.csv', delimiter=',')\n",
    "# get the number of rows and columns\n",
    "num_rows, num_cols = boxes.shape\n",
    "# iterate through each row\n",
    "for i in range(0, num_rows):\n",
    "    row = boxes[i]\n",
    "    if row[3] > 5:\n",
    "        # We are going to use block types to achieve a sense of height and separation of elements within the room\n",
    "        # if z is greater the 30, we will consider it the ceiling and set it to glass to let the light in from the minecraft world\n",
    "        if row[2] > 30:\n",
    "            mc.setBlock(row[0]-25, row[2], row[1]-25,  block_types.GLASS)\n",
    "        # Anything between 203 and 30 will be brick and most likely be the wallss\n",
    "        elif row[2] > 20:\n",
    "            mc.setBlock(row[0]-25, row[2], row[1]-25,  block_types.BRICK_BLOCK)\n",
    "        # Below 8 we will class oas the floor\n",
    "        elif row[2] < 8:    \n",
    "            mc.setBlock(row[0]-25, row[2], row[1]-25,  block_types.WOOD_PLANKS)\n",
    "        # Everything else can be stone\n",
    "        else:\n",
    "            mc.setBlock(row[0]-25, row[2], row[1]-25,  block_types.STONE_SLAB_DOUBLE)"
   ]
  },
  {
   "cell_type": "markdown",
   "metadata": {},
   "source": [
    "## Results\n",
    "\n",
    "Below are the results from this demo with the video showing the creation of the world as it is reading in the data from the csv. The images show some close ups of some of the features in the room.\n",
    "\n",
    "### Video"
   ]
  },
  {
   "cell_type": "code",
   "execution_count": null,
   "metadata": {},
   "outputs": [],
   "source": [
    "from IPython.display import YouTubeVideo\n",
    "YouTubeVideo(\"fS8cVxznAEo\")"
   ]
  },
  {
   "cell_type": "markdown",
   "metadata": {},
   "source": [
    "### Images\n",
    "\n",
    "![alt text](File_000.jpeg \"Results 1\")\n",
    "\n",
    "![alt text](File_001.jpeg \"Results 2\")\n",
    "\n",
    "![alt text](File_002.jpeg \"Results 3\")\n",
    "\n",
    "![alt text](File_003.jpeg \"Results 4\")\n",
    "\n",
    "![alt text](File_004.jpeg \"Results 5\")"
   ]
  }
 ],
 "metadata": {
  "kernelspec": {
   "display_name": "Python 3",
   "language": "python",
   "name": "python3"
  },
  "language_info": {
   "codemirror_mode": {
    "name": "ipython",
    "version": 3
   },
   "file_extension": ".py",
   "mimetype": "text/x-python",
   "name": "python",
   "nbconvert_exporter": "python",
   "pygments_lexer": "ipython3",
   "version": "3.6.2"
  }
 },
 "nbformat": 4,
 "nbformat_minor": 1
}
