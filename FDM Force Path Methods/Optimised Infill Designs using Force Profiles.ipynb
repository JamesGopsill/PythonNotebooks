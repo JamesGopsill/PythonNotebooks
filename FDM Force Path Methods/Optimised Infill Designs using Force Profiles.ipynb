{
 "cells": [
  {
   "cell_type": "markdown",
   "metadata": {},
   "source": [
    "# Optimised Infill Designs using Force Profiles\n",
    "\n",
    "by James Gopsill\n",
    "\n",
    "![Alt Text](header_fig.png)\n",
    "\n",
    "![center](stress_beam.jpg)\n",
    "\n",
    "<hr>\n",
    "\n",
    "This notebook provides an example of generating a infill design for a Fused Deposition Modelled part that aligns material with the force profiles within the part."
   ]
  },
  {
   "cell_type": "code",
   "execution_count": 20,
   "metadata": {
    "collapsed": true
   },
   "outputs": [],
   "source": [
    "# A line of code that jupyter notebook uses to plot the images inline with the code and text\n",
    "%matplotlib inline\n",
    "# Custom settings for the python notebook to save images as svg rather than png\n",
    "from IPython.display import set_matplotlib_formats\n",
    "set_matplotlib_formats('png')\n",
    "\n",
    "import numpy as np\n",
    "import pickle\n",
    "from scipy import interpolate\n",
    "import matplotlib.pyplot as plt\n",
    "import networkx as nx\n",
    "import pyx\n",
    "import sympy.geometry as geometry"
   ]
  },
  {
   "cell_type": "markdown",
   "metadata": {},
   "source": [
    "## Creating the perimeter of the beam"
   ]
  },
  {
   "cell_type": "code",
   "execution_count": 21,
   "metadata": {
    "collapsed": false
   },
   "outputs": [
    {
     "name": "stdout",
     "output_type": "stream",
     "text": [
      "Perimeter Offset: [0.9, 1.8]\n"
     ]
    }
   ],
   "source": [
    "perimeter_lines = []\n",
    "\n",
    "perimeter = pyx.path.line(-50.0,-20.0, 50.0,-20.0)\n",
    "perimeter.append(pyx.path.lineto(50.0, 20.0))\n",
    "perimeter.append(pyx.path.lineto(-50.0, 20.0))\n",
    "perimeter.append(pyx.path.lineto(-50.0, -20.0))\n",
    "\n",
    "perimeter_lines.append(perimeter)\n",
    "\n",
    "offset = [0.9, 1.8] # Note inner one will be used to stop the line overflowing\n",
    "print('Perimeter Offset:', offset)\n",
    "for value in offset:\n",
    "    perimeter_lines.append(pyx.deformer.parallel(value).deform(perimeter))"
   ]
  },
  {
   "cell_type": "markdown",
   "metadata": {},
   "source": [
    "## Plotting Perimeter Lines"
   ]
  },
  {
   "cell_type": "code",
   "execution_count": 22,
   "metadata": {
    "collapsed": false
   },
   "outputs": [],
   "source": [
    "perimeter_plot = pyx.canvas.canvas()\n",
    "for i in range(0, len(perimeter_lines)):\n",
    "    line = perimeter_lines[i]\n",
    "    perimeter_plot.stroke(line, [pyx.color.rgb.black, pyx.style.linewidth(0.3)])\n",
    "    \n",
    "perimeter_plot.writeSVGfile('perimeter_plot.svg')"
   ]
  },
  {
   "cell_type": "markdown",
   "metadata": {},
   "source": [
    "![center](perimeter_plot.svg)"
   ]
  },
  {
   "cell_type": "markdown",
   "metadata": {},
   "source": [
    "## Loading and Interpolating the FEA Data"
   ]
  },
  {
   "cell_type": "code",
   "execution_count": 23,
   "metadata": {
    "collapsed": false
   },
   "outputs": [
    {
     "name": "stdout",
     "output_type": "stream",
     "text": [
      "[[-50.         20.          4.          0.0630604]\n",
      " [-50.         19.3333      4.          0.082949 ]\n",
      " [-49.3333     19.3333      4.          0.143756 ]\n",
      " ..., \n",
      " [-30.6667      8.66667     4.         37.8364   ]\n",
      " [-30.          8.          4.         38.3281   ]\n",
      " [-30.          8.66667     4.         38.0116   ]]\n",
      "x min: -50.0 x max: 50.0\n",
      "y min: -20.0 y max: 20.0\n",
      "z min: 4.0 z max: 4.0\n",
      "Generating Grid Data\n",
      "Grid Data - Max: 1866.71518285 , Min: 0.0779761042148\n"
     ]
    }
   ],
   "source": [
    "fea_data = pickle.load(open('three_point_beam.pkl', 'rb'))\n",
    "\n",
    "print(fea_data)\n",
    "\n",
    "print('x min:', np.min(fea_data[:,0]), 'x max:', np.max(fea_data[:,0]))\n",
    "print('y min:', np.min(fea_data[:,1]), 'y max:', np.max(fea_data[:,1]))\n",
    "print('z min:', np.min(fea_data[:,2]), 'z max:', np.max(fea_data[:,2]))\n",
    "\n",
    "\n",
    "print('Generating Grid Data')\n",
    "dx = np.arange(-50, 50, 0.5)\n",
    "dy = np.arange(-20, 20, 0.5)\n",
    "X, Y = np.meshgrid(dx, dy)\n",
    "m = interpolate.griddata(fea_data[:,0:2], fea_data[:,3], (X, Y), method='linear')\n",
    "\n",
    "print('Grid Data - Max:', np.max(m), ', Min:', np.min(m))"
   ]
  },
  {
   "cell_type": "markdown",
   "metadata": {},
   "source": [
    "## Plotting the Interpolated FEA Data"
   ]
  },
  {
   "cell_type": "code",
   "execution_count": 24,
   "metadata": {
    "collapsed": false,
    "scrolled": true
   },
   "outputs": [
    {
     "data": {
      "image/png": "[encoded data removed]",
      "text/plain": [
       "<matplotlib.figure.Figure at 0x19a8b5d95f8>"
      ]
     },
     "metadata": {},
     "output_type": "display_data"
    }
   ],
   "source": [
    "plt.pcolor(m, vmax=np.max(m) / 4)\n",
    "plt.axis('equal')\n",
    "plt.axis('off')\n",
    "plt.show()"
   ]
  },
  {
   "cell_type": "code",
   "execution_count": 25,
   "metadata": {
    "collapsed": false
   },
   "outputs": [
    {
     "name": "stdout",
     "output_type": "stream",
     "text": [
      "200 80\n",
      "(80, 200)\n",
      "Weightings: 1999.84890496\n",
      "Number of Nodes before pruning: 16000\n"
     ]
    }
   ],
   "source": [
    "g = nx.Graph()\n",
    "\n",
    "# add nodes\n",
    "for i, x in enumerate(dx):\n",
    "    for j, y in enumerate(dy):\n",
    "        node_name = str(x)+'_'+str(y)\n",
    "        #print(node_name)\n",
    "        g.add_node(node_name, x=x, y=y, stress=m[j, i])\n",
    "        \n",
    "print(len(dx), len(dy))\n",
    "print(m.shape)\n",
    "\n",
    "weightings = []\n",
    "for x in range(1, len(dx)-1):\n",
    "    for y in range(1, len(dy)-1):\n",
    "        from_node = str(dx[x])+'_'+str(dy[y])\n",
    "        \n",
    "        # left\n",
    "        to_node = str(dx[x-1])+'_'+str(dy[y])\n",
    "        if not g.has_edge(from_node, to_node):\n",
    "            #weighting = np.abs( m[y,x] - m[y,x-1] )\n",
    "            weighting = 2000.0 - (m[y, x] +  m[y, x-1]) / 2.0\n",
    "            weightings.append(weighting)\n",
    "            g.add_edge(from_node, to_node, weight=weighting)\n",
    "        \n",
    "        # bottom-left\n",
    "        to_node = str(dx[x-1])+'_'+str(dy[y-1])\n",
    "        if not g.has_edge(from_node, to_node):\n",
    "            #weighting = np.abs( m[y,x] - m[y-1,x+1] )\n",
    "            weighting = 2000.0 - (m[y, x] +  m[y-1, x+1]) / 2.0\n",
    "            weightings.append(weighting)\n",
    "            g.add_edge(from_node, to_node, weight=weighting)\n",
    "\n",
    "        # bottom\n",
    "        to_node = str(dx[x])+'_'+str(dy[y-1])\n",
    "        if not g.has_edge(from_node, to_node):\n",
    "            #weighting = np.abs( m[y,x] - m[y-1,x+1] )\n",
    "            weighting = 2000.0 - (m[y, x] +  m[y-1, x+1]) / 2.0\n",
    "            weightings.append(weighting)\n",
    "            g.add_edge(from_node, to_node, weight=weighting)\n",
    "        \n",
    "        # bottom-right\n",
    "        to_node = str(dx[x+1])+'_'+str(dy[y-1])\n",
    "        if not g.has_edge(from_node, to_node):\n",
    "            #weighting = np.abs( m[y,x] - m[y+1,x-1] )\n",
    "            weighting = 2000.0 - (m[y, x] +  m[y+1, x-1]) / 2.0\n",
    "            weightings.append(weighting)\n",
    "            g.add_edge(from_node, to_node, weight=weighting)\n",
    "        \n",
    "        # right\n",
    "        to_node = str(dx[x+1])+'_'+str(dy[y])\n",
    "        if not g.has_edge(from_node, to_node):\n",
    "            #weighting = np.abs( m[y,x] - m[y,x+1] )\n",
    "            weighting = 2000.0 - (m[y, x] +  m[y, x+1]) / 2.0\n",
    "            weightings.append(weighting)\n",
    "            g.add_edge(from_node, to_node, weight=weighting)\n",
    "\n",
    "        # top-right\n",
    "        to_node = str(dx[x+1])+'_'+str(dy[y+1])\n",
    "        if not g.has_edge(from_node, to_node):\n",
    "            #weighting = np.abs( m[y,x] - m[y+1,x+1] )\n",
    "            weighting = 2000.0 - (m[y, x] +  m[y+1, x+1]) / 2.0\n",
    "            weightings.append(weighting)\n",
    "            g.add_edge(from_node, to_node, weight=weighting)\n",
    "\n",
    "        # top\n",
    "        to_node = str(dx[x])+'_'+str(dy[y+1])\n",
    "        if not g.has_edge(from_node, to_node):\n",
    "            #weighting = np.abs( m[y,x] - m[y+1,x] )\n",
    "            weighting = 2000.0 - (m[y, x] +  m[y+1, x]) / 2.0\n",
    "            weightings.append(weighting)\n",
    "            g.add_edge(from_node, to_node, weight=weighting)\n",
    "            \n",
    "        # top-left\n",
    "        to_node = str(dx[x-1])+'_'+str(dy[y+1])\n",
    "        if not g.has_edge(from_node, to_node):\n",
    "            #weighting = np.abs( m[y,x] - m[y+1,x-1] )\n",
    "            weighting = 2000.0 - (m[y, x] +  m[y+1, x-1]) / 2.0\n",
    "            weightings.append(weighting)\n",
    "            g.add_edge(from_node, to_node, weight=weighting)\n",
    "\n",
    "print('Weightings:', np.max(weightings))\n",
    "print('Number of Nodes before pruning:', g.number_of_nodes())       "
   ]
  },
  {
   "cell_type": "markdown",
   "metadata": {},
   "source": [
    "## Plotting the force path network"
   ]
  },
  {
   "cell_type": "code",
   "execution_count": 26,
   "metadata": {
    "collapsed": false
   },
   "outputs": [
    {
     "data": {
      "image/png": "[encoded data removed]",
      "text/plain": [
       "<matplotlib.figure.Figure at 0x19a8a03cbe0>"
      ]
     },
     "metadata": {},
     "output_type": "display_data"
    }
   ],
   "source": [
    "for u, v, data in g.edges_iter(data=True):\n",
    "    line_x = [ g.node[u]['x'], g.node[v]['x'] ]\n",
    "    line_y = [ g.node[u]['y'], g.node[v]['y'] ]\n",
    "    \n",
    "    c = (data['weight'] / 1500)\n",
    "    if c > 0.9:\n",
    "        c = 0.9\n",
    "    elif c < 0:\n",
    "        c = 0\n",
    "    \n",
    "    plt.plot(line_x, line_y, '-', color=(c, c, c), linewidth=1)\n",
    "\n",
    "\n",
    "plt.xlim(-50, 50)\n",
    "plt.axis('equal')\n",
    "plt.axis('off')\n",
    "plt.show()"
   ]
  },
  {
   "cell_type": "code",
   "execution_count": 27,
   "metadata": {
    "collapsed": true
   },
   "outputs": [],
   "source": [
    "nodes = nx.shortest_path(g, '28.0_-18.0', '0.0_18.0', weight='weight')\n",
    "x = [28,28,28,28]\n",
    "y = [-22,-21,-20,-19]\n",
    "for i in range(0, len(nodes) - 1 ):\n",
    "    line_x = [ g.node[nodes[i]]['x'], g.node[nodes[i+1]]['x'] ]\n",
    "    line_y = [ g.node[nodes[i]]['y'], g.node[nodes[i+1]]['y'] ]\n",
    "    \n",
    "    x.append(g.node[nodes[i]]['x'])\n",
    "    y.append(g.node[nodes[i]]['y'])\n",
    "\n",
    "x.append(g.node[nodes[i+1]]['x'])\n",
    "y.append(g.node[nodes[i+1]]['y'])\n",
    "x.append(0)\n",
    "y.append(19)\n",
    "x.append(0)\n",
    "y.append(20)\n",
    "x.append(0)\n",
    "y.append(21)\n",
    "x.append(0)\n",
    "y.append(22)\n",
    "x.append(0)\n",
    "y.append(23)\n",
    "\n",
    "# interpolate the line\n",
    "tck,u=interpolate.splprep([x,y],s=10.0)\n",
    "x_1,y_1= interpolate.splev(np.linspace(0,1,100),tck)\n",
    "\n",
    "force_path_one = pyx.path.line(x_1[0], y_1[0], x_1[1], y_1[1])\n",
    "for i in range(2, len(x_1)-1):\n",
    "    force_path_one.append(pyx.path.lineto(x_1[i], y_1[i]))\n",
    "    "
   ]
  },
  {
   "cell_type": "code",
   "execution_count": 28,
   "metadata": {
    "collapsed": true
   },
   "outputs": [],
   "source": [
    "perimeter_plot = pyx.canvas.canvas()\n",
    "for i in range(0, len(perimeter_lines)):\n",
    "    line = perimeter_lines[i]\n",
    "    perimeter_plot.stroke(line, [pyx.color.rgb.black, pyx.style.linewidth(0.3)])\n",
    "    \n",
    "perimeter_plot.stroke(force_path_one, [pyx.color.rgb.red, pyx.style.linewidth(0.3)])\n",
    "\n",
    "perimeter_plot.writeSVGfile('force_path_one.svg')"
   ]
  },
  {
   "cell_type": "markdown",
   "metadata": {},
   "source": [
    "![center](force_path_one.svg)"
   ]
  },
  {
   "cell_type": "markdown",
   "metadata": {},
   "source": [
    "## Creating offset force paths"
   ]
  },
  {
   "cell_type": "code",
   "execution_count": 29,
   "metadata": {
    "collapsed": false
   },
   "outputs": [],
   "source": [
    "offset_range = [-2.4, -1.6, -0.8, 0.0, 0.8, 1.6, 2.4]\n",
    "force_pathways_one = []\n",
    "for i, offset in enumerate(offset_range):\n",
    "    if offset == 0:\n",
    "        force_pathways_one.append(force_path_one)\n",
    "    else:\n",
    "        force_pathways_one.append(pyx.deformer.parallel(offset).deform(force_path_one))"
   ]
  },
  {
   "cell_type": "markdown",
   "metadata": {},
   "source": [
    "## Plotting addition force lines"
   ]
  },
  {
   "cell_type": "code",
   "execution_count": 30,
   "metadata": {
    "collapsed": false
   },
   "outputs": [],
   "source": [
    "perimeter_plot = pyx.canvas.canvas()\n",
    "for i in range(0, len(perimeter_lines)):\n",
    "    line = perimeter_lines[i]\n",
    "    perimeter_plot.stroke(line, [pyx.color.rgb.black, pyx.style.linewidth(0.3)])\n",
    "\n",
    "for i in range(0, len(force_pathways_one)):\n",
    "    perimeter_plot.stroke(force_pathways_one[i], [pyx.color.rgb.green, pyx.style.linewidth(0.3)])\n",
    "    \n",
    "perimeter_plot.stroke(force_path_one, [pyx.color.rgb.red, pyx.style.linewidth(0.3)])\n",
    "\n",
    "perimeter_plot.writeSVGfile('force_pathways_one.svg')"
   ]
  },
  {
   "cell_type": "markdown",
   "metadata": {},
   "source": [
    "![center](force_pathways_one.svg)"
   ]
  },
  {
   "cell_type": "markdown",
   "metadata": {},
   "source": [
    "## Creating polygon from inner perimeter line"
   ]
  },
  {
   "cell_type": "code",
   "execution_count": 31,
   "metadata": {
    "collapsed": false
   },
   "outputs": [],
   "source": [
    "inner_perimeter = perimeter_lines[-1]\n",
    "# Create perimeter polygon\n",
    "perimeter_positions = []\n",
    "path_length = inner_perimeter.arclen()\n",
    "for line_pos in np.arange(0, 1, 0.005):\n",
    "    line_pos = line_pos * path_length # get the x, y position\n",
    "    x = inner_perimeter.at(line_pos)[0].t*100\n",
    "    y = inner_perimeter.at(line_pos)[1].t*100\n",
    "    perimeter_positions.append( (x,y) )\n",
    "\n",
    "\n",
    "inner_perimeter_poly = geometry.Polygon(*perimeter_positions)"
   ]
  },
  {
   "cell_type": "markdown",
   "metadata": {},
   "source": [
    "## Determining intersects within inner perimeter"
   ]
  },
  {
   "cell_type": "code",
   "execution_count": 32,
   "metadata": {
    "collapsed": false
   },
   "outputs": [
    {
     "name": "stdout",
     "output_type": "stream",
     "text": [
      "47.14510013387342 170\n",
      "46.99174563691636 170\n",
      "47.11731993197509 171\n",
      "47.24055635945896 172\n",
      "47.36200087929334 173\n",
      "47.20583515001929 173\n",
      "47.04933122185797 173\n"
     ]
    }
   ],
   "source": [
    "final_lines = []\n",
    "# get length of line\n",
    "for force_path in force_pathways_one:\n",
    "    final_line = None\n",
    "    path_length = force_path.arclen()\n",
    "    min_path_check = path_length.t * 0.2\n",
    "    max_path_check = path_length.t * 0.8\n",
    "    #print(path_length)\n",
    "    start_line = True\n",
    "    # for each increment along its length\n",
    "    for line_pos in np.arange(0, 1.005, 0.005):\n",
    "        # comes out in a weird format (t, u, v w, x) m style pyx's format\n",
    "        line_pos = line_pos * path_length\n",
    "        x = force_path.at(line_pos)[0].t*100\n",
    "        y = force_path.at(line_pos)[1].t*100\n",
    "    \n",
    "        if line_pos.t < min_path_check or line_pos.t > max_path_check:\n",
    "            #print('Testing Enclosed', line_pos)\n",
    "            point = geometry.Point(x, y) # generate a point\n",
    "            # Check if point lies within polygon\n",
    "            if inner_perimeter_poly.encloses(point):\n",
    "                if start_line:\n",
    "                    final_line = pyx.path.line(x, y, x, y)\n",
    "                    start_line = False\n",
    "                else:\n",
    "                    final_line.append(pyx.path.lineto(x, y))\n",
    "        else:\n",
    "            final_line.append(pyx.path.lineto(x, y))\n",
    "\n",
    "    print(final_line.arclen().t*100, len(final_line))\n",
    "    final_lines.append(final_line)\n",
    "\n"
   ]
  },
  {
   "cell_type": "markdown",
   "metadata": {},
   "source": [
    "## Plotting Force Paths Intersecting Perimeter"
   ]
  },
  {
   "cell_type": "code",
   "execution_count": 33,
   "metadata": {
    "collapsed": true
   },
   "outputs": [],
   "source": [
    "perimeter_plot = pyx.canvas.canvas()\n",
    "for i in range(0, len(perimeter_lines)):\n",
    "    line = perimeter_lines[i]\n",
    "    perimeter_plot.stroke(line, [pyx.color.rgb.black, pyx.style.linewidth(0.3)])\n",
    "\n",
    "for i in range(0, len(final_lines)):\n",
    "    perimeter_plot.stroke(final_lines[i], [pyx.color.rgb.green, pyx.style.linewidth(0.3)])\n",
    "\n",
    "perimeter_plot.writeSVGfile('force_pathways_intersect.svg')"
   ]
  },
  {
   "cell_type": "markdown",
   "metadata": {},
   "source": [
    "![center](force_pathways_intersect.svg)"
   ]
  },
  {
   "cell_type": "markdown",
   "metadata": {},
   "source": [
    "## Mesh Lines"
   ]
  },
  {
   "cell_type": "code",
   "execution_count": 34,
   "metadata": {
    "collapsed": true
   },
   "outputs": [],
   "source": [
    "x_mesh_line_range = np.arange(-46.0, 47.1, 8.0)\n",
    "x_mesh_lines = []\n",
    "for mesh_line_pos in x_mesh_line_range:\n",
    "    x_mesh_lines.append(pyx.path.line(mesh_line_pos, -18.5, mesh_line_pos, 18.5))\n",
    "    \n",
    "y_mesh_line_range = np.arange(-16.0, 17.1, 8.0)\n",
    "y_mesh_lines = []\n",
    "for mesh_line_pos in y_mesh_line_range:\n",
    "    y_mesh_lines.append(pyx.path.line(-48.5, mesh_line_pos, 48.5, mesh_line_pos))"
   ]
  },
  {
   "cell_type": "code",
   "execution_count": 35,
   "metadata": {
    "collapsed": true
   },
   "outputs": [],
   "source": [
    "perimeter_plot = pyx.canvas.canvas()\n",
    "for i in range(0, len(perimeter_lines)):\n",
    "    line = perimeter_lines[i]\n",
    "    perimeter_plot.stroke(line, [pyx.color.rgb.black, pyx.style.linewidth(0.3)])\n",
    "\n",
    "for i in range(0, len(final_lines)):\n",
    "    perimeter_plot.stroke(final_lines[i], [pyx.color.rgb.green, pyx.style.linewidth(0.3)])\n",
    "\n",
    "for i in range(0, len(x_mesh_lines)):\n",
    "    perimeter_plot.stroke(x_mesh_lines[i], [pyx.color.rgb.blue, pyx.style.linewidth(0.3)])\n",
    "    \n",
    "for i in range(0, len(y_mesh_lines)):\n",
    "    perimeter_plot.stroke(y_mesh_lines[i], [pyx.color.rgb.red, pyx.style.linewidth(0.3)])\n",
    "\n",
    "perimeter_plot.writeSVGfile('force_pathways_intersect_mesh_overlay.svg')"
   ]
  },
  {
   "cell_type": "markdown",
   "metadata": {},
   "source": [
    "![center](force_pathways_intersect_mesh_overlay.svg)"
   ]
  },
  {
   "cell_type": "code",
   "execution_count": 36,
   "metadata": {
    "collapsed": true
   },
   "outputs": [],
   "source": [
    "def mesh_intersects(mesh_lines, force_path_left, force_path_right):\n",
    "\n",
    "    # my code\n",
    "    print('Generating Mesh Intersects')\n",
    "    # resulting mesh lines that intersect neatly with the force path\n",
    "    new_mesh_lines = []\n",
    "\n",
    "    for mesh_line in mesh_lines:\n",
    "        mesh_intersect_flag = False\n",
    "        xstart, ystart = mesh_line.atbegin()\n",
    "        xend, yend = mesh_line.atend()\n",
    "\n",
    "        # right\n",
    "        intersect = mesh_line.intersect(force_path_right)\n",
    "        if len(intersect[0]) > 0: # if not an empty list,\n",
    "            a1 = intersect[0][0]\n",
    "            x1, y1 = mesh_line.at(a1)\n",
    "            print(x1.t*100, y1.t*100)\n",
    "            new_mesh_lines.append(pyx.path.line(xstart.t*100, ystart.t*100, x1.t*100, y1.t*100))\n",
    "            mesh_intersect_flag = True\n",
    "        else:\n",
    "            print('No Intersection Detected')\n",
    "\n",
    "        # left\n",
    "        intersect = mesh_line.intersect(force_path_left)\n",
    "        if len(intersect[0]) > 0: # if not an empty list,\n",
    "            a1 = intersect[0][0]\n",
    "            x1, y1 = mesh_line.at(a1)\n",
    "            print(x1.t*100, y1.t*100)\n",
    "            new_mesh_lines.append(pyx.path.line(xend.t*100, yend.t*100, x1.t*100, y1.t*100))\n",
    "            mesh_intersect_flag = True\n",
    "        else:\n",
    "            print('No Intersection Detected')\n",
    "\n",
    "        if not mesh_intersect_flag: # if the line has not intersected the force pathway\n",
    "            new_mesh_lines.append(mesh_line)\n",
    "\n",
    "    return(new_mesh_lines)"
   ]
  },
  {
   "cell_type": "code",
   "execution_count": 37,
   "metadata": {
    "collapsed": false
   },
   "outputs": [
    {
     "name": "stdout",
     "output_type": "stream",
     "text": [
      "Generating Mesh Intersects\n",
      "No Intersection Detected\n",
      "No Intersection Detected\n",
      "No Intersection Detected\n",
      "No Intersection Detected\n",
      "No Intersection Detected\n",
      "No Intersection Detected\n",
      "No Intersection Detected\n",
      "No Intersection Detected\n",
      "No Intersection Detected\n",
      "No Intersection Detected\n",
      "No Intersection Detected\n",
      "No Intersection Detected\n",
      "2.0 8.601604469338552\n",
      "No Intersection Detected\n",
      "10.0 0.4911709112326846\n",
      "10.0 7.136912928418421\n",
      "18.0 -7.223416984112656\n",
      "18.0 -0.5064632201829354\n",
      "26.0 -16.28774161190597\n",
      "26.0 -8.451160192161849\n",
      "No Intersection Detected\n",
      "No Intersection Detected\n",
      "No Intersection Detected\n",
      "No Intersection Detected\n",
      "Generating Mesh Intersects\n",
      "25.869045337605762 -16.0\n",
      "30.93876554923763 -16.0\n",
      "18.782939088016267 -8.0\n",
      "25.55724438238952 -8.0\n",
      "10.519688371791645 0.0\n",
      "17.476016169843124 0.0\n",
      "2.5219186429997755 8.0\n",
      "9.12714935933556 8.0\n",
      "-2.268830867635018 16.0\n",
      "2.780261928313583 16.0\n"
     ]
    }
   ],
   "source": [
    "x_mesh_lines_intersect = mesh_intersects(x_mesh_lines, final_lines[0], final_lines[-1])\n",
    "\n",
    "y_mesh_lines_intersect = mesh_intersects(y_mesh_lines, final_lines[0], final_lines[-1])"
   ]
  },
  {
   "cell_type": "code",
   "execution_count": 38,
   "metadata": {
    "collapsed": true
   },
   "outputs": [],
   "source": [
    "perimeter_plot = pyx.canvas.canvas()\n",
    "for i in range(0, len(perimeter_lines)):\n",
    "    line = perimeter_lines[i]\n",
    "    perimeter_plot.stroke(line, [pyx.color.rgb.black, pyx.style.linewidth(0.3)])\n",
    "\n",
    "for i in range(0, len(final_lines)):\n",
    "    perimeter_plot.stroke(final_lines[i], [pyx.color.rgb.green, pyx.style.linewidth(0.3)])\n",
    "\n",
    "for i in range(0, len(x_mesh_lines_intersect)):\n",
    "    perimeter_plot.stroke(x_mesh_lines_intersect[i], [pyx.color.rgb.blue, pyx.style.linewidth(0.3)])\n",
    "    \n",
    "for i in range(0, len(y_mesh_lines_intersect)):\n",
    "    perimeter_plot.stroke(y_mesh_lines_intersect[i], [pyx.color.rgb.red, pyx.style.linewidth(0.3)])\n",
    "\n",
    "perimeter_plot.writeSVGfile('force_pathways_intersect_mesh_intersect.svg')"
   ]
  },
  {
   "cell_type": "markdown",
   "metadata": {},
   "source": [
    "![center](force_pathways_intersect_mesh_intersect.svg)"
   ]
  },
  {
   "cell_type": "code",
   "execution_count": 1,
   "metadata": {
    "collapsed": false
   },
   "outputs": [
    {
     "data": {
      "text/html": [
       "<style>@font-face {\n",
       "    font-family: Inconsolata;\n",
       "    src: url('../extras/Inconsolata-Regular.ttf');\n",
       "    font-weight: normal;\n",
       "}\n",
       "\n",
       "@font-face {\n",
       "    font-family: Inconsolata;\n",
       "    src: url('../extras/Inconsolata-Bold.ttf');\n",
       "    font-weight: bold;\n",
       "}\n",
       "\n",
       "\n",
       ".text_cell_render h1, .text_cell_render h2, .text_cell_render h3, .text_cell_render h4 {\n",
       "  font-family: -apple-system, BlinkMacSystemFont,\n",
       "      \"Segoe UI\", \"Roboto\", \"Oxygen\",\n",
       "      \"Ubuntu\", \"Cantarell\", \"Fira Sans\",\n",
       "      \"Droid Sans\", \"Helvetica Neue\", sans-serif !important;\n",
       "}\n",
       "\n",
       "\n",
       ".text_cell_render p, .text_cell_render ul {\n",
       "  font-family: -apple-system, BlinkMacSystemFont,\n",
       "      \"Segoe UI\", \"Roboto\", \"Oxygen\",\n",
       "      \"Ubuntu\", \"Cantarell\", \"Fira Sans\",\n",
       "      \"Droid Sans\", \"Helvetica Neue\", sans-serif !important;\n",
       "  font-size: 17px;\n",
       "}\n",
       "\n",
       "\n",
       ".CodeMirror {\n",
       "  font-family: Inconsolata !important;\n",
       "  font-size: 12pt;\n",
       "}\n",
       "\n",
       ".highlight {\n",
       "  font-family: Inconsolata !important;\n",
       "  font-size: 12pt;\n",
       "}\n",
       "\n",
       "img[alt=center] {\n",
       "  width:50% !important;\n",
       "  margin: 0 auto !important;\n",
       "}\n",
       "</style>"
      ],
      "text/plain": [
       "<IPython.core.display.HTML object>"
      ]
     },
     "execution_count": 1,
     "metadata": {},
     "output_type": "execute_result"
    }
   ],
   "source": [
    "# Setting the css styling of the notebook\n",
    "from IPython.core.display import HTML\n",
    "\n",
    "def load_css():\n",
    "    style = open(\"../extras/custom.css\", \"r\").read()\n",
    "    return HTML(\"<style>\"+style+\"</style>\")\n",
    "\n",
    "load_css()"
   ]
  },
  {
   "cell_type": "code",
   "execution_count": null,
   "metadata": {
    "collapsed": true
   },
   "outputs": [],
   "source": []
  }
 ],
 "metadata": {
  "kernelspec": {
   "display_name": "Python 3",
   "language": "python",
   "name": "python3"
  },
  "language_info": {
   "codemirror_mode": {
    "name": "ipython",
    "version": 3
   },
   "file_extension": ".py",
   "mimetype": "text/x-python",
   "name": "python",
   "nbconvert_exporter": "python",
   "pygments_lexer": "ipython3",
   "version": "3.5.1"
  }
 },
 "nbformat": 4,
 "nbformat_minor": 0
}
