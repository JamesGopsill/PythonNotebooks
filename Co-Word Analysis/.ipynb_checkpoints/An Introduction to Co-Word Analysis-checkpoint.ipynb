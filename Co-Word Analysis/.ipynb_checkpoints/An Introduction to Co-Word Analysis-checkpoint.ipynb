{
 "cells": [
  {
   "cell_type": "markdown",
   "metadata": {},
   "source": [
    "# An Introduction to Co-Word Analysis\n",
    "\n",
    "co-word analysis is the investigation of the semantic structure of a corpus of textual data through the co-occurrence of terms. By analysing the co-occurrence of terms, a network of connected terms is generated, which enables the application of algorithms developed in graph theory to uncover underlying structures (normally referred to as themes) and examine the nature of the connections behind the terms. For example, centrality measures are often used to identify the most important and influential terms within the network structure. In addition, clustering algorithms such as Louvain community partitioning are used to identify groups of highly connected terms within a network. A primary application of co-word analysis has been the identification of research themes and key terms within scientific communities cite{ding2001, coulter1998, liu2014}.\n",
    "\n",
    "This notebook provides a brief introduction and demmonstration of some of the techniques that are used in co-word analysis. Hopefully it will give you a good starting point as well as the confidence to try it out on your datasets. In this introduction, we will be applying co-word analysis on the keywords used by conference papers in DESIGN 2012.\n",
    "\n",
    "The analysis is broken down in 5 steps and covers:\n",
    "\n",
    "* Importing the relevant python packages and data;\n",
    "* Generating a co-word network of keywords;\n",
    "* Visualising the co-word network;\n",
    "* Clustering the co-word network; and,\n",
    "* Identifying key terms within the network.\n"
   ]
  },
  {
   "cell_type": "code",
   "execution_count": 46,
   "metadata": {
    "collapsed": false
   },
   "outputs": [],
   "source": [
    "# A line of code that jupyter notebook uses to plot the images inline with the code and text\n",
    "%matplotlib inline\n",
    "\n",
    "import networkx as nx\n",
    "import json\n",
    "import matplotlib\n",
    "matplotlib.rcParams['savefig.dpi'] = 100\n",
    "import matplotlib.pyplot as plt\n",
    "import collections\n",
    "from stop_words import get_stop_words"
   ]
  },
  {
   "cell_type": "code",
   "execution_count": 47,
   "metadata": {
    "collapsed": false
   },
   "outputs": [
    {
     "name": "stdout",
     "output_type": "stream",
     "text": [
      "{'publication_author': 'Achiche S., Howard T. J., McAloone T. C., Deng L., Baron L.', 'publication_conf_code': 'DESIGN 2012', 'publication_keyword': 'new product development, success criteria and factors, project management', 'publication_title': 'THE UNDERLYING RELATIONSHIPS BETWEEN SUCCESS CRITERIA &amp; SUCCESS FACTORS IN NPD ACTIVITIES'}\n"
     ]
    }
   ],
   "source": [
    "# load the data from the file\n",
    "with open('DESIGN2012.json', 'r', encoding='iso-8859-15') as f:\n",
    "    data = f.read()\n",
    "\n",
    "# read json object\n",
    "data = json.loads(data)\n",
    "papers = data['rows']\n",
    "# pretty print an example data row\n",
    "print(papers[0])"
   ]
  },
  {
   "cell_type": "code",
   "execution_count": 49,
   "metadata": {
    "collapsed": false
   },
   "outputs": [
    {
     "name": "stdout",
     "output_type": "stream",
     "text": [
      "Number of Keywords: 843\n",
      "[('design process', 10), ('design methods', 7), ('product development', 7), ('knowledge management', 7), ('product development process', 6), ('design', 5), ('product-service systems', 5), ('design structure matrix', 5), ('systems engineering', 5), ('innovation', 5)]\n"
     ]
    },
    {
     "data": {
      "image/png": "[encoded data removed]",
      "text/plain": [
       "<matplotlib.figure.Figure at 0x10a0dd358>"
      ]
     },
     "metadata": {},
     "output_type": "display_data"
    }
   ],
   "source": [
    "keyword_list = []\n",
    "for paper in papers:\n",
    "    keywords = paper['publication_keyword'].lower().split(',') # splitting keywords\n",
    "    keywords = [x.strip() for x in keywords] # stripping whitespace\n",
    "    keyword_list.extend(keywords)\n",
    "    \n",
    "print('Number of Keywords:', len(keyword_list))\n",
    "keyword_list = collections.Counter(keyword_list).most_common()\n",
    "print(keyword_list[0:10])\n",
    "\n",
    "# create list of appearence for plotting\n",
    "y = [k[1] for k in keyword_list]\n",
    "\n",
    "plt.plot(y)\n",
    "plt.ylim(0, 10)\n",
    "plt.xlabel('Keyword (Ordered)')\n",
    "plt.ylabel('Count')\n",
    "plt.show()"
   ]
  },
  {
   "cell_type": "code",
   "execution_count": null,
   "metadata": {
    "collapsed": true
   },
   "outputs": [],
   "source": [
    "keywords_of_interest = []\n",
    "for keyword in keyword_list:\n",
    "    if keyword[1] > 1:\n",
    "        keywords_of_interest.append(keyword[0])\n",
    "        \n",
    "# Generate Graph\n",
    "g = nx.Graph()\n",
    "\n"
   ]
  }
 ],
 "metadata": {
  "kernelspec": {
   "display_name": "Python 3",
   "language": "python",
   "name": "python3"
  },
  "language_info": {
   "codemirror_mode": {
    "name": "ipython",
    "version": 3
   },
   "file_extension": ".py",
   "mimetype": "text/x-python",
   "name": "python",
   "nbconvert_exporter": "python",
   "pygments_lexer": "ipython3",
   "version": "3.5.1"
  }
 },
 "nbformat": 4,
 "nbformat_minor": 0
}
