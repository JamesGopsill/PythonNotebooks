{
 "cells": [
  {
   "cell_type": "markdown",
   "metadata": {},
   "source": [
    "# An Introduction to Co-Word Analysis\n",
    "\n",
    "co-word analysis is the investigation of the semantic structure of a corpus of textual data through the co-occurrence of terms. By analysing the co-occurrence of terms, a network of connected terms is generated, which enables the application of algorithms developed in graph theory to uncover underlying structures (normally referred to as themes) and examine the nature of the connections behind the terms. For example, centrality measures are often used to identify the most important and influential terms within the network structure. In addition, clustering algorithms such as Louvain community partitioning are used to identify groups of highly connected terms within a network. A primary application of co-word analysis has been the identification of research themes and key terms within scientific communities cite{ding2001, coulter1998, liu2014}.\n",
    "\n",
    "This notebook provides a brief introduction and demmonstration of some of the techniques that are used in co-word analysis. Hopefully it will give you a good starting point as well as the confidence to try it out on your datasets. In this introduction, we will be applying co-word analysis on the keywords used by conference papers in DESIGN 2012.\n",
    "\n",
    "The analysis is broken down in 5 steps and covers:\n",
    "\n",
    "* Importing the relevant python packages and data;\n",
    "* Generating a co-word network of keywords;\n",
    "* Visualising the co-word network;\n",
    "* Clustering the co-word network; and,\n",
    "* Identifying key terms within the network.\n"
   ]
  },
  {
   "cell_type": "code",
   "execution_count": null,
   "metadata": {
    "collapsed": false
   },
   "outputs": [],
   "source": [
    "import networkx as nx\n",
    "import json\n",
    "import matplotlib\n",
    "matplotlib.rcParams['savefig.dpi'] = 300\n",
    "import matplotlib.pyplot as plt\n",
    "import collections\n",
    "from stop_words import get_stop_words"
   ]
  },
  {
   "cell_type": "code",
   "execution_count": null,
   "metadata": {
    "collapsed": false
   },
   "outputs": [],
   "source": [
    "# load the data from the file\n",
    "with open('DESIGN2012.json', 'r') as f:\n",
    "    data = f.read()\n",
    "\n",
    "# read json object\n",
    "data = json.loads(data)\n",
    "papers = data['rows']\n",
    "# pretty print an example data row\n",
    "print(papers[0])"
   ]
  },
  {
   "cell_type": "code",
   "execution_count": null,
   "metadata": {
    "collapsed": false
   },
   "outputs": [],
   "source": [
    "keyword_list = []\n",
    "for paper in papers:\n",
    "    keywords = paper['publication_keyword'].lower().split(',') # splitting keywords\n",
    "    keywords = [x.strip() for x in keywords] # stripping whitespace\n",
    "    keyword_list.extend(keywords)\n",
    "    \n",
    "print('Number of Keywords:', len(keyword_list))\n",
    "keyword_list = collections.Counter(keyword_list).most_common()\n",
    "print(keyword_list[0:10])\n",
    "\n",
    "y = [k[1] for k in keyword_list]\n",
    "print(y)\n",
    "\n",
    "plt.plot(y)\n",
    "plt.show()"
   ]
  },
  {
   "cell_type": "code",
   "execution_count": null,
   "metadata": {
    "collapsed": true
   },
   "outputs": [],
   "source": []
  }
 ],
 "metadata": {
  "kernelspec": {
   "display_name": "Python 3",
   "language": "python",
   "name": "python3"
  },
  "language_info": {
   "codemirror_mode": {
    "name": "ipython",
    "version": 3
   },
   "file_extension": ".py",
   "mimetype": "text/x-python",
   "name": "python",
   "nbconvert_exporter": "python",
   "pygments_lexer": "ipython3",
   "version": "3.5.1"
  }
 },
 "nbformat": 4,
 "nbformat_minor": 0
}
