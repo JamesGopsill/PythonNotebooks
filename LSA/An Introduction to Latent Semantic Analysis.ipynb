{
 "cells": [
  {
   "cell_type": "markdown",
   "metadata": {},
   "source": [
    "# An Introduction to Latent Semantic Analysis\n",
    "\n",
    "<hr>\n",
    "\n",
    "This python notebook demonstrates how to perform Latent Semantic Analysis (LSA) on a corpus of text. There are a couple of other tutorials (see here and here) that this example builds upon and I hope the python along with the theory will help you out in using this technique for your own research.\n",
    "\n",
    "In this example, we are going to analyse the titles of a set of papers from the DESIGN 2012 conference to determine their similarity. This information could be useful to conference organisers wishing to group similar research together and/or as part of a search tool for the attendees to find similar work that might be of interest.\n",
    "\n",
    "We will be treating each abstract as a list of words. From this, will form a word-title matrix with the column vectors representing the abstracts (and thus, paper), and the row vectors representing the words. There are four key steps to the analysis and we will be stepping through each one with the code and output from each stage being explained. The stages are:\n",
    "\n",
    "* Generating a list of words from the abstracts\n",
    "* Creating the word-abstract matrix\n",
    "* Applying the Term Frequency - Inverse Document Frequency (TF-IDF) Weighting Scheme\n",
    "* Using Singular Value Decomposition (SVD) to derive the underlying concepts across the documents\n",
    "\n",
    "Before we get underway, we need to first import all the packages that we will be using. These are:\n",
    "\n",
    "* Numpy - for handling matrices and the svd function\n",
    "* Matplotlib - for plotting\n",
    "* json - for parsing json objects into python\n",
    "* pprint - pretty printing results to the console\n",
    "* collections - for counting the number of duplicate occurrences of items in a list\n",
    "* stop_words - a list of common words used to form sentences\n",
    "* scipy - for cosine similarity"
   ]
  },
  {
   "cell_type": "code",
   "execution_count": 1,
   "metadata": {
    "collapsed": false
   },
   "outputs": [],
   "source": [
    "# A line of code that jupyter notebook uses to plot the images inline with the code and text\n",
    "%matplotlib inline\n",
    "\n",
    "# Importing the packages that we need\n",
    "import numpy as np # For matrices and SVD function\n",
    "import matplotlib\n",
    "matplotlib.rcParams['savefig.dpi'] = 300\n",
    "import matplotlib.pyplot as plt # For plotting \n",
    "import json # To read in JSON data\n",
    "from pprint import pprint # To pretty print text output to console\n",
    "import collections\n",
    "from stop_words import get_stop_words\n",
    "from scipy.spatial.distance import cosine"
   ]
  },
  {
   "cell_type": "markdown",
   "metadata": {},
   "source": [
    "## Generating a list of words\n",
    "\n",
    "Before we can form a word-title matrix of words against titles, we need to decide on the list of words that we will be using to compare the abstracts. The first thing we need to do is load up the dataset."
   ]
  },
  {
   "cell_type": "code",
   "execution_count": 2,
   "metadata": {
    "collapsed": false,
    "scrolled": false
   },
   "outputs": [
    {
     "name": "stdout",
     "output_type": "stream",
     "text": [
      "{'publication_author': 'Achiche S., Howard T. J., McAloone T. C., Deng L., '\n",
      "                       'Baron L.',\n",
      " 'publication_conf_code': 'DESIGN 2012',\n",
      " 'publication_keyword': 'new product development, success criteria and '\n",
      "                        'factors, project management',\n",
      " 'publication_title': 'THE UNDERLYING RELATIONSHIPS BETWEEN SUCCESS CRITERIA '\n",
      "                      '&amp; SUCCESS FACTORS IN NPD ACTIVITIES'}\n"
     ]
    }
   ],
   "source": [
    "# load the data from the file\n",
    "with open('DESIGN2012.json', 'r', encoding='iso-8859-15') as f:\n",
    "    data = f.read()\n",
    "\n",
    "# read json object\n",
    "data = json.loads(data)\n",
    "papers = data['rows']\n",
    "# pretty print an example data row\n",
    "pprint(papers[0])\n"
   ]
  },
  {
   "cell_type": "markdown",
   "metadata": {},
   "source": [
    "Next, we generate a list of the words that are potentially of interest to us. Here, we count the number of times the words appear within the titles and perform checks such as checking whether the words exist in the stop words list. "
   ]
  },
  {
   "cell_type": "code",
   "execution_count": 3,
   "metadata": {
    "collapsed": false
   },
   "outputs": [
    {
     "name": "stdout",
     "output_type": "stream",
     "text": [
      "Total Number of Words: 2162\n",
      "Number of Unique Words: 801\n",
      "Most Occurring Words\n",
      "[('OF', 121), ('DESIGN', 98), ('FOR', 73), ('A', 69), ('IN', 65)]\n",
      "Example Stopwords\n",
      "['A', 'ABOUT', 'ABOVE', 'AFTER', 'AGAIN']\n",
      "Number of Words of Interest: 225\n"
     ]
    }
   ],
   "source": [
    "# Generate words list from publication titles\n",
    "number_of_papers = len(papers)\n",
    "words_list = []\n",
    "for i in range(0, number_of_papers):\n",
    "    papers[i]['publication_title'] = papers[i]['publication_title'].upper()\n",
    "    words_in_title = papers[i]['publication_title'].split()\n",
    "    words_list.extend(words_in_title)\n",
    "\n",
    "print('Total Number of Words:', len(words_list))\n",
    "\n",
    "# Count the unique number of words\n",
    "word_counts = collections.Counter(words_list)\n",
    "word_counts = word_counts.most_common()\n",
    "print('Number of Unique Words:', len(word_counts))\n",
    "print('Most Occurring Words')\n",
    "pprint(word_counts[0:5])\n",
    "\n",
    "# Getting the stopwords list\n",
    "stop_words = get_stop_words('english')\n",
    "stop_words = [x.upper() for x in stop_words] # Making all the stopwords upper case to match titles\n",
    "print('Example Stopwords')\n",
    "pprint(stop_words[0:5])\n",
    "\n",
    "words_of_interest = []\n",
    "for word in word_counts:\n",
    "    if word[1] > 1:\n",
    "        if word[0] not in stop_words and '&' not in word[0] and len(word[0]) > 1:\n",
    "            words_of_interest.append(word[0])\n",
    "    else:\n",
    "        # break as the frequency of that word is too low for our interest \n",
    "        # (and do will the subsequent words be as the list is in order of most common)\n",
    "        break\n",
    "\n",
    "number_of_words = len(words_of_interest)\n",
    "print('Number of Words of Interest:', number_of_words)"
   ]
  },
  {
   "cell_type": "markdown",
   "metadata": {},
   "source": [
    "## Creating the word-title count matrix"
   ]
  },
  {
   "cell_type": "code",
   "execution_count": 4,
   "metadata": {
    "collapsed": false
   },
   "outputs": [
    {
     "name": "stdout",
     "output_type": "stream",
     "text": [
      "(225, 211)\n",
      "[[ 0.  1.  0. ...,  0.  0.  2.]\n",
      " [ 0.  0.  1. ...,  0.  0.  0.]\n",
      " [ 0.  0.  1. ...,  0.  0.  0.]\n",
      " ..., \n",
      " [ 0.  0.  0. ...,  0.  0.  0.]\n",
      " [ 0.  0.  0. ...,  0.  0.  0.]\n",
      " [ 0.  0.  0. ...,  0.  0.  0.]]\n"
     ]
    }
   ],
   "source": [
    "m = np.zeros( (number_of_words, number_of_papers) )\n",
    "print(m.shape)\n",
    "\n",
    "for i in range(0, number_of_words):\n",
    "    for j in range(0, number_of_papers):\n",
    "        words_in_title = papers[j]['publication_title'].split()\n",
    "        m[i,j] = words_in_title.count(words_of_interest[i])\n",
    "        \n",
    "print(m)"
   ]
  },
  {
   "cell_type": "markdown",
   "metadata": {
    "collapsed": true
   },
   "source": [
    "## Creating the TF-IDF Matrix\n",
    "\n",
    "\n",
    "### Term Frequency\n",
    "\n",
    "$$ \\mathrm{tf}(t, d) = f_{t,d} $$ \n",
    "\n",
    "### Inverse-Document Frequency\n",
    "\n",
    "$$ \\mathrm{idf}(t, D) = \\log \\frac{N}{|\\{d \\in D\\ : t \\in d \\}|} $$\n",
    "\n",
    "### Tf-idf\n",
    "\n",
    "$$ \\mathrm{tfidf}(t, d) = \\mathrm{tf}(t, d) \\cdot  \\mathrm{idf}(t, D) $$\n",
    "\n",
    "(for more schemes, please read the [wikipedia page](https://en.wikipedia.org/wiki/Tf%E2%80%93idf))"
   ]
  },
  {
   "cell_type": "code",
   "execution_count": 5,
   "metadata": {
    "collapsed": false
   },
   "outputs": [
    {
     "name": "stdout",
     "output_type": "stream",
     "text": [
      "[[ 0.          0.89751084  0.         ...,  0.          0.          1.79502167]\n",
      " [ 0.          0.          1.54519564 ...,  0.          0.          0.        ]\n",
      " [ 0.          0.          1.9845623  ...,  0.          0.          0.        ]\n",
      " ..., \n",
      " [ 0.          0.          0.         ...,  0.          0.          0.        ]\n",
      " [ 0.          0.          0.         ...,  0.          0.          0.        ]\n",
      " [ 0.          0.          0.         ...,  0.          0.          0.        ]]\n"
     ]
    }
   ],
   "source": [
    "tfidf = np.zeros( (number_of_words, number_of_papers) )\n",
    "\n",
    "words_per_title = np.sum(m, axis=0)\n",
    "titles_per_word = np.sum(np.asarray(m > 0, 'i'), axis=1)\n",
    "\n",
    "for i in range(0, number_of_words):\n",
    "    for j in range(0, number_of_papers):\n",
    "        tfidf[i,j] = ( m[i,j] ) * np.log( float(number_of_papers) / titles_per_word[i] )\n",
    "        \n",
    "print(tfidf)\n",
    "        \n",
    "        \n",
    "    "
   ]
  },
  {
   "cell_type": "markdown",
   "metadata": {},
   "source": [
    "## Singular Value Decomposition\n",
    "\n",
    "* [wikipedia page](https://en.wikipedia.org/wiki/Singular_value_decomposition)\n",
    "* [python numpy page](http://docs.scipy.org/doc/numpy/reference/generated/numpy.linalg.svd.html)\n"
   ]
  },
  {
   "cell_type": "code",
   "execution_count": 6,
   "metadata": {
    "collapsed": false
   },
   "outputs": [
    {
     "name": "stdout",
     "output_type": "stream",
     "text": [
      "U Matrix: (225, 225)\n",
      "S Column: (211,)\n",
      "Vt Matrix: (211, 211)\n"
     ]
    }
   ],
   "source": [
    "U, S, Vt = np.linalg.svd(tfidf)\n",
    "\n",
    "print('U Matrix:', U.shape)\n",
    "print('S Column:', S.shape)\n",
    "print('Vt Matrix:', Vt.shape)\n"
   ]
  },
  {
   "cell_type": "markdown",
   "metadata": {},
   "source": [
    "## Plotting the Results\n",
    "\n",
    "Now that we have the results from the SVD, we can use them to uncover the relationships between the terms and titles. The following figure shows the significance of each Singular Value. As we can see, it tails off the further down the list we go. The steeper the line shows that the tf-idf matrix can be represented by a few concept vectors."
   ]
  },
  {
   "cell_type": "code",
   "execution_count": 7,
   "metadata": {
    "collapsed": false
   },
   "outputs": [
    {
     "data": {
      "image/png": "[encoded data removed]",
      "text/plain": [
       "<matplotlib.figure.Figure at 0x10768b358>"
      ]
     },
     "metadata": {},
     "output_type": "display_data"
    }
   ],
   "source": [
    "ind = np.arange(len(S))\n",
    "width = 0.8\n",
    "\n",
    "plt.plot(ind, S)\n",
    "plt.xlabel('Singular Value')\n",
    "plt.ylabel('Relative Importance')\n",
    "plt.title('The Relative Importance of Each Singular Value')\n",
    "plt.show()"
   ]
  },
  {
   "cell_type": "markdown",
   "metadata": {},
   "source": [
    "### Clustering by three dimensions\n",
    "\n",
    "To show the power of LSA, we can plot and compare the first three concept vectors for titles 1-10."
   ]
  },
  {
   "cell_type": "code",
   "execution_count": 8,
   "metadata": {
    "collapsed": false
   },
   "outputs": [
    {
     "name": "stdout",
     "output_type": "stream",
     "text": [
      "DESIGN [-0.13659356 -0.07296021 -0.05578946]\n",
      "PRODUCT [ 0.21460004 -0.13364657  0.24625988]\n",
      "DEVELOPMENT [ 0.273407    0.02515281  0.22053825]\n",
      "ENGINEERING [-0.10836121  0.00909842 -0.17775233]\n",
      "SYSTEMS [-0.02848056 -0.11700444 -0.17565461]\n",
      "-----\n",
      "Singular Values: [ 15.80655713  15.66813855  15.42168573]\n",
      "-----\n",
      "THE UNDERLYING RELATIONSHIPS BETWEEN SUCCESS CRITERIA &AMP; SUCCESS FACTORS IN NPD ACTIVITIES\n",
      "[ 0.12941572 -0.13631703  0.0588798 ]\n",
      "TARGET VALUE DESIGN\n",
      "[ 0.00069599 -0.00364242 -0.00800743]\n",
      "TOWARDS AN INTEGRATION OF SUPPLY CHAIN REQUIREMENTS INTO THE PRODUCT DEVELOPMENT PROCESS\n",
      "[ 0.04769812  0.03439986  0.03346327]\n",
      "TECHNICAL-COMMERCIAL INTERFACE - A BASELINE FOR SUCCESSFUL NEW PRODUCT DEVELOPMENT\n",
      "[ 0.05604139 -0.03161074  0.03144235]\n",
      "MATURITY BASED IMPROVEMENT OF PRODUCT DEVELOPMENT PROCESSES IN SMALL AND MEDIUM-SIZED ENTERPRISES\n",
      "[ 0.07536557 -0.02198135  0.07584032]\n"
     ]
    },
    {
     "data": {
      "image/png": "[encoded data removed]",
      "text/plain": [
       "<matplotlib.figure.Figure at 0x108b906a0>"
      ]
     },
     "metadata": {},
     "output_type": "display_data"
    }
   ],
   "source": [
    "for i in range(0, 5):\n",
    "    print(words_of_interest[i], U[i,1:4])\n",
    "\n",
    "print('-----')\n",
    "print('Singular Values:', S[1:4])\n",
    "print('-----')\n",
    "\n",
    "for i in range(0, 5):\n",
    "    print(papers[i]['publication_title'])\n",
    "    print(Vt[1:4, i])\n",
    "    \n",
    "    \n",
    "plt.pcolor(Vt[1:4, 0:10], cmap='viridis')\n",
    "plt.xticks([x+0.5 for x in range(0, 10)], [x for x in range(0, 10)])\n",
    "plt.yticks([x+0.5 for x in range(0, 3)], [x for x in range(0, 3)])\n",
    "plt.xlabel('Paper')\n",
    "plt.ylabel('Concept')\n",
    "plt.colorbar()\n",
    "plt.show()"
   ]
  },
  {
   "cell_type": "markdown",
   "metadata": {},
   "source": [
    "### Mapping Words and Titles\n",
    "\n"
   ]
  },
  {
   "cell_type": "code",
   "execution_count": 9,
   "metadata": {
    "collapsed": false
   },
   "outputs": [
    {
     "data": {
      "image/png": "[encoded data removed]",
      "text/plain": [
       "<matplotlib.figure.Figure at 0x109cb8da0>"
      ]
     },
     "metadata": {},
     "output_type": "display_data"
    }
   ],
   "source": [
    "for i in range(0, 30):\n",
    "    plt.plot(U[i,2], U[i,3], 'ob', alpha=0.5)\n",
    "    plt.text(U[i,2], U[i,3], words_of_interest[i], fontsize=6)\n",
    "    \n",
    "for i in range(0, 30):\n",
    "    plt.plot(Vt[2,i], Vt[3,i], 'sr', alpha=0.5)\n",
    "    plt.text(Vt[2,i], Vt[3,i], 'Paper '+str(i), fontsize=6)\n",
    "\n",
    "plt.xlabel('Concept 1')\n",
    "plt.ylabel('Concept 2')\n",
    "plt.show()"
   ]
  },
  {
   "cell_type": "markdown",
   "metadata": {},
   "source": [
    "### Identifying Similar Documents\n",
    "\n",
    "The power of LSA is identify similar paper titles and thus, ones that may also be of interest to the reader. This example takes the first 25 concept vectors and identifies similar titles to title 15 \"OPEN INNOVATION PRACTICES IN A CLUSTER CONTEXT: A MEDICON VALLEY CASE STUDY\" by calculating the cosine similarity. This is defined as:\n",
    "\n",
    "$$ \\frac{\\sum^n_{i=1}A_iB_i}{\\sqrt{\\sum^n_{i=1}A^2_i}\\sqrt{\\sum^n_{i=1}B^2_i}} $$\n",
    "\n",
    "where $A_i$ and $B_i$ are components of vector $A$ and $B$ respectively.\n",
    "\n",
    "As you would expect (and a check for us!), the most similar title is the title itself. This is followed by 3 papers all with \"CASE STUDY\" within the title. Clearly, \"CASE STUDY\" is a key identifying factor in the dataset. Further down the list, we see that \"CASE\" and \"INNOVATION\" are the terms that link the titles in their similarity."
   ]
  },
  {
   "cell_type": "code",
   "execution_count": 10,
   "metadata": {
    "collapsed": false
   },
   "outputs": [
    {
     "name": "stdout",
     "output_type": "stream",
     "text": [
      "- Paper of Interest -\n",
      "OPEN INNOVATION PRACTICES IN A CLUSTER CONTEXT: A MEDICON VALLEY CASE STUDY\n",
      "- Similar Titled Papers -\n",
      "Paper ID: 15 - OPEN INNOVATION PRACTICES IN A CLUSTER CONTEXT: A MEDICON VALLEY CASE STUDY\n",
      "Paper ID: 159 - TRACEABILITY CASE STUDY ON RAIL VEHICLE CONTROL UNIT DEVELOPMENT PROJECT\n",
      "Paper ID: 94 - MANUFACTURABILITY AND VALIDATION METHODS IN PASSENGER CAR DEVELOPMENT  AN INDUSTRIAL CASE STUDY\n",
      "Paper ID: 154 - REQUIREMENT ANALYSIS FOR CONTEXTUAL MANAGEMENT AND SUPPLY OF PROCESS- AND DESIGN KNOWLEDGE  A CASE STUDY\n",
      "Paper ID: 76 - DESIGN FOR INNOVATION\n",
      "Paper ID: 62 - CASE EXAMPLE IN SYSTEMATIC DESIGN ENGINEERING - PROPELLER SHAFT BEARING ARRANGEMENT\n",
      "Paper ID: 61 - CASE EXAMPLE IN SYSTEMATIC DESIGN ENGINEERING - LEEBOARD MOUNTING\n",
      "Paper ID: 205 - THE AMBIGUOUS ROLE OF METHODS IN DESIGN EDUCATION: INITIAL FINDINGS FROM THE DELFT METHOD STUDY\n",
      "Paper ID: 164 - TRACEABILITY VISUALISATION TOOLKIT\n",
      "Paper ID: 21 - A DESIGN CASE OF PRODUCT-SERVICE SYSTEMS  URBAN UMBRELLA RENTAL PSS\n"
     ]
    }
   ],
   "source": [
    "paper_of_interest = 15\n",
    "paper_vector = Vt[0:25, paper_of_interest]\n",
    "\n",
    "cosine_similarity = []\n",
    "for i in range(0, number_of_papers):\n",
    "    vector = Vt[0:25, i]\n",
    "    cosine_distance = cosine(paper_vector, vector) # nearer to one the higher the similarity\n",
    "    cosine_similarity.append([i, cosine_distance])\n",
    "    \n",
    "cosine_similarity = np.asarray(cosine_similarity)\n",
    "\n",
    "cosine_similarity = cosine_similarity[np.argsort(cosine_similarity[:, 1])]\n",
    "\n",
    "print('- Paper of Interest -')\n",
    "print(papers[paper_of_interest]['publication_title'])\n",
    "\n",
    "print('- Similar Titled Papers -')\n",
    "for i in range(0, 10):\n",
    "    paper_id = int(cosine_similarity[i,0])\n",
    "    print('Paper ID:', paper_id, '-', papers[paper_id]['publication_title'])\n",
    "\n",
    "\n",
    "\n",
    "    "
   ]
  },
  {
   "cell_type": "markdown",
   "metadata": {},
   "source": [
    "We can also do this for words to find out words that are used in similar contexts."
   ]
  },
  {
   "cell_type": "code",
   "execution_count": 11,
   "metadata": {
    "collapsed": false
   },
   "outputs": [
    {
     "name": "stdout",
     "output_type": "stream",
     "text": [
      "- Word of Interest -\n",
      "PROCESS\n",
      "- Similar Words by Concept -\n",
      "Word ID: 15 - DESIGN\n",
      "Word ID: 96 - PRODUCT\n",
      "Word ID: 163 - DEVELOPMENT\n",
      "Word ID: 133 - ENGINEERING\n",
      "Word ID: 74 - SYSTEMS\n",
      "Word ID: 39 - APPROACH\n",
      "Word ID: 26 - ANALYSIS\n",
      "Word ID: 207 - SYSTEM\n",
      "Word ID: 117 - MODEL\n",
      "Word ID: 201 - USING\n"
     ]
    }
   ],
   "source": [
    "word_of_interest = 15\n",
    "word_vector = U[word_of_interest, 0:25]\n",
    "\n",
    "cosine_similarity = []\n",
    "for i in range(0, number_of_papers):\n",
    "    vector = U[i, 0:25]\n",
    "    cosine_distance = cosine(word_vector, vector) # nearer to one the higher the similarity\n",
    "    cosine_similarity.append([i, cosine_distance])\n",
    "    \n",
    "cosine_similarity = np.asarray(cosine_similarity)\n",
    "\n",
    "cosine_similarity = cosine_similarity[np.argsort(cosine_similarity[:, 1])]\n",
    "#print(cosine_similarity[0:5])\n",
    "\n",
    "print('- Word of Interest -')\n",
    "print(words_of_interest[word_of_interest])\n",
    "\n",
    "print('- Similar Words by Concept -')\n",
    "for i in range(0, 10):\n",
    "    word_id = int(cosine_similarity[i,0])\n",
    "    print('Word ID:', word_id, '-', words_of_interest[i])"
   ]
  },
  {
   "cell_type": "markdown",
   "metadata": {},
   "source": [
    "Finally, we can look at the concept vectors and see which words feature heavily within it."
   ]
  },
  {
   "cell_type": "code",
   "execution_count": 12,
   "metadata": {
    "collapsed": false
   },
   "outputs": [
    {
     "name": "stdout",
     "output_type": "stream",
     "text": [
      "Concept One\n",
      "[ 1  0  2  3  4 12  6  7  8  5 10 21  9 37 25]\n",
      "PRODUCT\n",
      "DESIGN\n",
      "DEVELOPMENT\n",
      "ENGINEERING\n",
      "SYSTEMS\n",
      "TOWARDS\n",
      "ANALYSIS\n",
      "SYSTEM\n",
      "MODEL\n",
      "APPROACH\n",
      "BASED\n",
      "INDUSTRIAL\n",
      "USING\n",
      "CONCEPT\n",
      "PRODUCT-SERVICE\n",
      "\n",
      "- Concept Two -\n",
      "[ 30 193 169 116  86  93  13  76 147  24  49   0 212 120   3]\n",
      "DESIGNING\n",
      "ART\n",
      "STATE\n",
      "FUTURE\n",
      "IMPACT\n",
      "INTERACTION\n",
      "MANAGEMENT\n",
      "REVIEW\n",
      "EMERGING\n",
      "USE\n",
      "RESEARCH\n",
      "DESIGN\n",
      "CHALLENGES\n",
      "VARIANT\n",
      "ENGINEERING\n",
      "\n",
      "- Concept Three -\n",
      "[  5   7  52   1  51  49   4  40  41  16  61 134  54 215 139]\n",
      "APPROACH\n",
      "SYSTEM\n",
      "SUCCESS\n",
      "PRODUCT\n",
      "SOLUTION\n",
      "RESEARCH\n",
      "SYSTEMS\n",
      "PROJECTS\n",
      "EVALUATION\n",
      "ARCHITECTURE\n",
      "MODULAR\n",
      "FAMILIES\n",
      "ENVIRONMENTAL\n",
      "FACTORS\n",
      "METHODICAL\n"
     ]
    }
   ],
   "source": [
    "print('Concept One')\n",
    "word_indices = np.argsort(U[:,0])\n",
    "word_indices = word_indices[0:15]\n",
    "print(word_indices)\n",
    "for word_ind in word_indices:\n",
    "    print(words_of_interest[word_ind])\n",
    "\n",
    "print()\n",
    "print('- Concept Two -')\n",
    "word_indices = np.argsort(U[:,1])\n",
    "word_indices = word_indices[0:15]\n",
    "print(word_indices)\n",
    "for word_ind in word_indices:\n",
    "    print(words_of_interest[word_ind])\n",
    "    \n",
    "print()\n",
    "print('- Concept Three -')\n",
    "word_indices = np.argsort(U[:,2])\n",
    "word_indices = word_indices[0:15]\n",
    "print(word_indices)\n",
    "for word_ind in word_indices:\n",
    "    print(words_of_interest[word_ind])\n",
    "    "
   ]
  },
  {
   "cell_type": "markdown",
   "metadata": {},
   "source": [
    "## Potential Improvements\n",
    "\n",
    "* Considering tri-grams & bi-grams\n",
    "* Stemming\n",
    "* Synonyms"
   ]
  },
  {
   "cell_type": "code",
   "execution_count": 13,
   "metadata": {
    "collapsed": false
   },
   "outputs": [
    {
     "data": {
      "text/html": [
       "<style>.text_cell_render p, .text_cell_render ul {\n",
       "  font-family: serif !important;\n",
       "  font-size: 16px;\n",
       "}\n",
       "\n",
       ".output_png img {\n",
       "  width: 60%;\n",
       "  margin-left: 25%;\n",
       "}\n",
       "</style>"
      ],
      "text/plain": [
       "<IPython.core.display.HTML object>"
      ]
     },
     "execution_count": 13,
     "metadata": {},
     "output_type": "execute_result"
    }
   ],
   "source": [
    "from IPython.core.display import HTML\n",
    "\n",
    "styles = open(\"../styling/custom.css\", \"r\").read()\n",
    "HTML(\"<style>\"+styles+\"</style>\")"
   ]
  },
  {
   "cell_type": "code",
   "execution_count": null,
   "metadata": {
    "collapsed": true
   },
   "outputs": [],
   "source": []
  }
 ],
 "metadata": {
  "kernelspec": {
   "display_name": "Python 3",
   "language": "python",
   "name": "python3"
  },
  "language_info": {
   "codemirror_mode": {
    "name": "ipython",
    "version": 3
   },
   "file_extension": ".py",
   "mimetype": "text/x-python",
   "name": "python",
   "nbconvert_exporter": "python",
   "pygments_lexer": "ipython3",
   "version": "3.5.1"
  }
 },
 "nbformat": 4,
 "nbformat_minor": 0
}
